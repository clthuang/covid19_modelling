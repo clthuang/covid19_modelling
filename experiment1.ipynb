{
 "cells": [
  {
   "cell_type": "code",
   "execution_count": 1,
   "metadata": {},
   "outputs": [],
   "source": [
    "import numpy as np\n",
    "import pandas as pd\n",
    "import typing\n",
    "\n",
    "from scipy.stats import norm"
   ]
  },
  {
   "cell_type": "markdown",
   "metadata": {},
   "source": [
    "# The Plan\n",
    "A mixture of discrete time physical simulation and statistical simulation will be used. The problem is decomposed into multiple layers:\n",
    "- atmospherical virual pressure: a proxy to measure how much visrus is present in the environment. The higher the pressure, the more likely an individual gets infected.\n",
    "- transport layer: this layer dictates how individuals move around within the space, a matrix of transition probability between key locations. Individuals movements are assumed to be following a normal distribution around each key location\n",
    "- population layer: this layer keeps track of individuals status including location, a list of individuals\n",
    "- immigration layer: how new individuals are introduced into the population layer\n",
    "- medical resource layer: it indicates how much resources is available to test and care for potential patients. This will also affect our ability of observe the population. A rough measure is number of people per m^2"
   ]
  },
  {
   "cell_type": "markdown",
   "metadata": {},
   "source": [
    "# Parameters\n",
    "## Parameters of interest\n",
    "- Infectious rate: temperature\n",
    "- Asymptomatic time: age\n",
    "- Death rate: age\n",
    "- Infectious radius: an arbitary constant\n",
    "- Virus life span: how long the virus stays infectious in the environment, temperature related\n",
    "\n",
    "## Other variables\n",
    "- Spatial information: cordinates\n",
    "- Mobility: change of cordinates\n",
    "- Population\n"
   ]
  },
  {
   "cell_type": "markdown",
   "metadata": {},
   "source": [
    "# Setting up"
   ]
  },
  {
   "cell_type": "markdown",
   "metadata": {},
   "source": [
    "## Constants"
   ]
  },
  {
   "cell_type": "code",
   "execution_count": 2,
   "metadata": {},
   "outputs": [],
   "source": [
    "X_BOUNDARY = (0, 300000) #in meters\n",
    "Y_BOUNDARY = (0, 800000) #in meters\n",
    "POPULATION = 67886011\n",
    "\n",
    "AVERAGE_TEMPRATURE = 15.0\n",
    "VIRUS_LIFE_EXPECTANCY = 4.0 #4 hours"
   ]
  },
  {
   "cell_type": "markdown",
   "metadata": {},
   "source": [
    "## Environment"
   ]
  },
  {
   "cell_type": "code",
   "execution_count": 3,
   "metadata": {},
   "outputs": [],
   "source": [
    "#Using real data for modelling UK population concentration spread\n",
    "city_population = pd.read_csv(\"city_population.csv\")\n",
    "city_population.columns = columns=[\"city\", \"population\", \"location\"]\n",
    "city_population[\"proportion\"] = city_population.population / sum(city_population.population)\n",
    "population_distribution = city_population[\"proportion\"]"
   ]
  },
  {
   "cell_type": "code",
   "execution_count": 4,
   "metadata": {},
   "outputs": [],
   "source": [
    "#Using real data for modelling UK age group\n",
    "age_groups = pd.read_csv(\"uk_age_groups.csv\").dropna()\n",
    "age_groups = age_groups.drop([\"Ethnicity\", \"All ages\"], axis=1)\n",
    "\n",
    "age_groups = age_groups.applymap(lambda x: int(x.replace(\",\", \"\")))\n",
    "age_groups[\"Age 5 to 9\"] = age_groups[\"Age 5 to 7\"] + age_groups[\"Age 8 to 9\"]\n",
    "age_groups[\"Age 15 to 19\"] = age_groups[\"Age 15\"] + age_groups[\"Age 16 to 17\"] + age_groups[\"Age 18 to 19\"]\n",
    "\n",
    "age_groups = age_groups.drop(columns=[\"Age 5 to 7\", \"Age 8 to 9\", \"Age 15\", \"Age 16 to 17\", \"Age 18 to 19\"], axis=1)\n",
    "age_groups = pd.DataFrame.sum(age_groups, axis=0).to_frame()\n",
    "\n",
    "age_groups = age_groups.set_index(np.array([4, 14, 24, 29, 34, 39, 44, 49, 54, 59, 64, 69, 74, 79, 84, 85, 9, 19]))\n",
    "age_groups = age_groups.sort_index()\n",
    "\n",
    "age_groups.columns = [\"population\"]\n",
    "age_groups[\"age_distribution\"] = age_groups[\"population\"] / pd.DataFrame.sum(age_groups[\"population\"])\n",
    "age_distribution = age_groups[\"age_distribution\"]"
   ]
  },
  {
   "cell_type": "markdown",
   "metadata": {},
   "source": [
    "## Defining a person"
   ]
  },
  {
   "cell_type": "code",
   "execution_count": 7,
   "metadata": {},
   "outputs": [],
   "source": [
    "class Location():\n",
    "    def __init__(self, x: float , y: float):\n",
    "        self.x = x\n",
    "        self.y = y\n",
    "    \n",
    "class Individual():\n",
    "    def __init__(self, location: Location=Location(0,0), age: int=40, is_infected: bool=False, \n",
    "                 infection_date: int=None, has_symptom: bool=False, symptom_date: int=None, is_dead: bool=False, \n",
    "                 death_date: int=None, vulnerability: float=0.5, mobility: float=0.5, immunity: float=0.5, \n",
    "                 infection_radius:float=2):\n",
    "        self.location = location\n",
    "        self.age = age\n",
    "        self.is_infected = is_infected\n",
    "        self.infection_date = infection_date\n",
    "        self.has_symptom = has_symptom #has symptoms\n",
    "        self.symptom_date = symptom_date #when symptom menifested\n",
    "        self.is_dead = is_dead #i.e. not alive\n",
    "        self.death_date = death_date # when one died\n",
    "        self.vulnerability = vulnerability #interacting with death\n",
    "        self.mobility = mobility #cross region mobility\n",
    "        self.immunity = immunity #interacting with infection layer\n",
    "        self.infection_radius = infection_radius #effective infectious radius, a part of the smoothing parameter\n",
    "    \n",
    "    def cal_distance(location: Location):\n",
    "        return sqrt((self.x - location.x)**2 + (self.y - location.y)**2)\n",
    "    \n",
    "    def get_infection_pressure(self,\n",
    "                               location:Location,\n",
    "                               infectious_rate:float):\n",
    "        #assumming a normally distributed infection contribution.\n",
    "        mu = cal_distance(location)\n",
    "        return infectious_rate * norm.pdf(x=mu, scale=self.infection_radius*3)\n",
    "    \n",
    "    def get_individual_array(self):\n",
    "        return np.array(self.location.x, self.location.y, self.ago, self.is_infected,\n",
    "                        self.infection_date, self.has_symptom, self.symptom_date,\n",
    "                        self.is_dead, self.death_date, self.vulnerability, self.mobility,\n",
    "                        self.immunity, self.infection_radius)\n",
    "        \n",
    "\n",
    "class Population():\n",
    "    def __init__(self, population_location:Location, population_size: int, individuals: [Individual]):\n",
    "        self.population_location = population_location\n",
    "        self.population_size = population_size\n",
    "        self.individuals_list = individuals\n",
    "        self.individuals_array = None\n",
    "        \n",
    "    def get_infected_count(self):\n",
    "        infected_count = 0\n",
    "        for individual in self.individuals_list:\n",
    "            infected_count += individual.is_infected\n",
    "        return infected_count\n",
    "    \n",
    "    def get_has_symptom_count(self):\n",
    "        has_symptom_count = 0\n",
    "        for individual in self.individuals_list:\n",
    "            has_symptom_count += individual.has_symptom\n",
    "        return has_symptom_count\n",
    "    \n",
    "    def get_death_count(self):\n",
    "        death_count = 0\n",
    "        for individual in self.individuals_list:\n",
    "            death_count += individual.is_dead\n",
    "        return death_count\n",
    "    \n",
    "    "
   ]
  },
  {
   "cell_type": "code",
   "execution_count": 6,
   "metadata": {},
   "outputs": [
    {
     "name": "stdout",
     "output_type": "stream",
     "text": [
      "CPU times: user 24 ms, sys: 0 ns, total: 24 ms\n",
      "Wall time: 35.9 ms\n"
     ]
    }
   ],
   "source": [
    "%time x = np.random.uniform(0,1, 1000000)"
   ]
  },
  {
   "cell_type": "code",
   "execution_count": null,
   "metadata": {},
   "outputs": [],
   "source": [
    "%time len(x[np.logical_and((x > 0.3), (x < 0.7))])"
   ]
  },
  {
   "cell_type": "code",
   "execution_count": null,
   "metadata": {},
   "outputs": [],
   "source": []
  }
 ],
 "metadata": {
  "kernelspec": {
   "display_name": "Python 3",
   "language": "python",
   "name": "python3"
  },
  "language_info": {
   "codemirror_mode": {
    "name": "ipython",
    "version": 3
   },
   "file_extension": ".py",
   "mimetype": "text/x-python",
   "name": "python",
   "nbconvert_exporter": "python",
   "pygments_lexer": "ipython3",
   "version": "3.6.10"
  }
 },
 "nbformat": 4,
 "nbformat_minor": 4
}
